{
 "cells": [
  {
   "cell_type": "code",
   "execution_count": 36,
   "id": "b2876036-78f1-42fb-baeb-41510ddc607d",
   "metadata": {},
   "outputs": [],
   "source": [
    "import pexpect\n",
    "import json\n",
    "import argparse\n",
    "import os\n",
    "\n",
    "\n",
    "class ProofSearch:\n",
    "    def __init__(self, path_to_repl):\n",
    "\n",
    "        path_to_repl = os.environ.get('PATH_TO_LEAN_REPL')\n",
    "        \n",
    "        self.proc = pexpect.spawn(\n",
    "            \"lake env lean --run REPL/Main.lean\", cwd=path_to_repl, encoding=\"utf-8\"\n",
    "        )\n",
    "        self.proc.debug = True\n",
    "\n",
    "    def run_code(self, code, env=None, verbose=False):\n",
    "        if env:\n",
    "            command = (\n",
    "                '{ \"cmd\" : \"' + repr(code)[1:-1] + f'\", \"env\" : {env}' + \" }\"\n",
    "            )  # [1:-1] removes single quotes\n",
    "        else:\n",
    "            command = (\n",
    "                '{ \"cmd\" : \"' + repr(code)[1:-1] + '\" }'\n",
    "            )  # [1:-1] removes single quotes\n",
    "\n",
    "        if verbose:\n",
    "            print(command)\n",
    "            \n",
    "        self.proc.sendline(command)\n",
    "        self.proc.expect_exact(command + \"\\r\\n\")\n",
    "\n",
    "        self.proc.sendline()\n",
    "        self.proc.expect_exact(\"\\r\\n\")\n",
    "        \n",
    "        try:\n",
    "            index = self.proc.expect('env\": \\d+\\}', timeout=20)\n",
    "            output = self.proc.before + self.proc.match.group()\n",
    "            if verbose: \n",
    "                print(output)\n",
    "            return json.loads(output)\n",
    "        except pexpect.exceptions.TIMEOUT:\n",
    "            print(\"FAILED DUE TO TIMEOUT\")\n"
   ]
  },
  {
   "cell_type": "code",
   "execution_count": 37,
   "id": "dec74a19-e5fd-4f49-bf9a-9dfdc3a37532",
   "metadata": {},
   "outputs": [
    {
     "name": "stdout",
     "output_type": "stream",
     "text": [
      "{ \"cmd\" : \"import Mathlib.Data.List.Basic\\ndef f := 2\" }\n",
      "{\"env\": 1}\n"
     ]
    },
    {
     "data": {
      "text/plain": [
       "{'env': 1}"
      ]
     },
     "execution_count": 37,
     "metadata": {},
     "output_type": "execute_result"
    }
   ],
   "source": [
    "proofsearch.run_code(\"import Mathlib.Data.List.Basic\\ndef f := 2\", verbose=True)"
   ]
  },
  {
   "cell_type": "code",
   "execution_count": 38,
   "id": "1d7ee17a-7dbc-4b2f-b1d6-437b29a41930",
   "metadata": {},
   "outputs": [
    {
     "name": "stdout",
     "output_type": "stream",
     "text": [
      "{ \"cmd\" : \"example : 2 = 2 := by\" }\n",
      "{\"messages\":\n",
      " [{\"severity\": \"error\",\n",
      "   \"pos\": {\"line\": 1, \"column\": 21},\n",
      "   \"endPos\": null,\n",
      "   \"data\": \"unexpected end of input; expected '{'\"},\n",
      "  {\"severity\": \"error\",\n",
      "   \"pos\": {\"line\": 1, \"column\": 19},\n",
      "   \"endPos\": {\"line\": 1, \"column\": 21},\n",
      "   \"data\": \"unsolved goals\\n⊢ 2 = 2\"}],\n",
      " \"env\": 2}\n"
     ]
    },
    {
     "data": {
      "text/plain": [
       "{'messages': [{'severity': 'error',\n",
       "   'pos': {'line': 1, 'column': 21},\n",
       "   'endPos': None,\n",
       "   'data': \"unexpected end of input; expected '{'\"},\n",
       "  {'severity': 'error',\n",
       "   'pos': {'line': 1, 'column': 19},\n",
       "   'endPos': {'line': 1, 'column': 21},\n",
       "   'data': 'unsolved goals\\n⊢ 2 = 2'}],\n",
       " 'env': 2}"
      ]
     },
     "execution_count": 38,
     "metadata": {},
     "output_type": "execute_result"
    }
   ],
   "source": [
    "proofsearch.run_code(\"example : 2 = 2 := by\", verbose=True)"
   ]
  },
  {
   "cell_type": "code",
   "execution_count": 39,
   "id": "5fc282a6-5aca-4cec-bcb1-fd1b82dbe595",
   "metadata": {},
   "outputs": [
    {
     "name": "stdout",
     "output_type": "stream",
     "text": [
      "{ \"cmd\" : \"example : 2 = 3 := rfl\" }\n",
      "{\"messages\":\n",
      " [{\"severity\": \"error\",\n",
      "   \"pos\": {\"line\": 1, \"column\": 19},\n",
      "   \"endPos\": {\"line\": 1, \"column\": 22},\n",
      "   \"data\":\n",
      "   \"type mismatch\\n  rfl\\nhas type\\n  2 = 2 : Prop\\nbut is expected to have type\\n  2 = 3 : Prop\"}],\n",
      " \"env\": 3}\n"
     ]
    },
    {
     "data": {
      "text/plain": [
       "{'messages': [{'severity': 'error',\n",
       "   'pos': {'line': 1, 'column': 19},\n",
       "   'endPos': {'line': 1, 'column': 22},\n",
       "   'data': 'type mismatch\\n  rfl\\nhas type\\n  2 = 2 : Prop\\nbut is expected to have type\\n  2 = 3 : Prop'}],\n",
       " 'env': 3}"
      ]
     },
     "execution_count": 39,
     "metadata": {},
     "output_type": "execute_result"
    }
   ],
   "source": [
    "proofsearch.run_code(\"example : 2 = 3 := rfl\", verbose=True)"
   ]
  },
  {
   "cell_type": "code",
   "execution_count": 40,
   "id": "b2bc0d53-b514-4232-8732-e19667c7488e",
   "metadata": {},
   "outputs": [
    {
     "name": "stdout",
     "output_type": "stream",
     "text": [
      "{ \"cmd\" : \"def f := 37\" }\n",
      "{\"env\": 4}\n"
     ]
    }
   ],
   "source": [
    "feedback = proofsearch.run_code(\"def f := 37\", verbose=True)"
   ]
  },
  {
   "cell_type": "code",
   "execution_count": 41,
   "id": "865b326c-8072-4f55-8fdc-b482a17517e4",
   "metadata": {},
   "outputs": [
    {
     "name": "stdout",
     "output_type": "stream",
     "text": [
      "{ \"cmd\" : \"#check (rfl: f = 37)\", \"env\" : 4 }\n",
      "{\"messages\":\n",
      " [{\"severity\": \"info\",\n",
      "   \"pos\": {\"line\": 1, \"column\": 0},\n",
      "   \"endPos\": {\"line\": 1, \"column\": 6},\n",
      "   \"data\": \"rfl : f = f\"}],\n",
      " \"env\": 5}\n"
     ]
    },
    {
     "data": {
      "text/plain": [
       "{'messages': [{'severity': 'info',\n",
       "   'pos': {'line': 1, 'column': 0},\n",
       "   'endPos': {'line': 1, 'column': 6},\n",
       "   'data': 'rfl : f = f'}],\n",
       " 'env': 5}"
      ]
     },
     "execution_count": 41,
     "metadata": {},
     "output_type": "execute_result"
    }
   ],
   "source": [
    "env = feedback[\"env\"]\n",
    "proofsearch.run_code(\"#check (rfl: f = 37)\", env=env, verbose=True)"
   ]
  },
  {
   "cell_type": "code",
   "execution_count": null,
   "id": "aa56b1b6-4576-4c06-9461-780d50526c62",
   "metadata": {},
   "outputs": [],
   "source": []
  },
  {
   "cell_type": "code",
   "execution_count": 13,
   "id": "32de49af-d8d8-419e-8235-da55dc8fd1de",
   "metadata": {},
   "outputs": [
    {
     "name": "stdout",
     "output_type": "stream",
     "text": [
      "lean repl path:  /localscratch/hsun409/github/repl\n",
      "{ \"cmd\" : \"example : 2 = 2 := by\" }\n",
      "{\"messages\":\n",
      " [{\"severity\": \"error\",\n",
      "   \"pos\": {\"line\": 1, \"column\": 21},\n",
      "   \"endPos\": null,\n",
      "   \"data\": \"unexpected end of input; expected '{'\"},\n",
      "  {\"severity\": \"error\",\n",
      "   \"pos\": {\"line\": 1, \"column\": 19},\n",
      "   \"endPos\": {\"line\": 1, \"column\": 21},\n",
      "   \"data\": \"unsolved goals\\n⊢ 2 = 2\"}],\n",
      " \"env\": 0}\n"
     ]
    }
   ],
   "source": [
    "path = os.environ.get(\"PATH_TO_LEAN_REPL\")\n",
    "\n",
    "print(\"lean repl path: \", path)\n",
    "\n",
    "proofsearch = ProofSearch(path)\n",
    "state = proofsearch.run_code(\"example : 2 = 2 := by\", verbose=True)"
   ]
  },
  {
   "cell_type": "code",
   "execution_count": 42,
   "id": "31b109e2-47b3-438c-9f3a-279ef5954653",
   "metadata": {},
   "outputs": [],
   "source": [
    "code = '''\n",
    "import Mathlib.Data.List.Basic\n",
    "\n",
    "def f := 2\n",
    "\n",
    "-- Example theorem or lemma\n",
    "theorem example_theorem : f > 0 :=\n",
    "begin\n",
    "  -- Proof goes here\n",
    "  sorry -- This is a placeholder\n",
    "end\n",
    "'''"
   ]
  },
  {
   "cell_type": "code",
   "execution_count": 53,
   "id": "51b9c8e6-1d0e-4a89-9a2b-51983bfb9e52",
   "metadata": {},
   "outputs": [],
   "source": [
    "code = '''\n",
    "import Mathlib.Data.List.Basic\\ndef f := 2\\ntheorem example_theorem : f > 0 := sorry\n",
    "'''"
   ]
  },
  {
   "cell_type": "code",
   "execution_count": 54,
   "id": "82697232-d3af-4324-a0b4-75c41771eeb4",
   "metadata": {},
   "outputs": [
    {
     "name": "stdout",
     "output_type": "stream",
     "text": [
      "{ \"cmd\" : \"\\nimport Mathlib.Data.List.Basic\\ndef f := 2\\ntheorem example_theorem : f > 0 := sorry\\n\" }\n",
      "{\"sorries\":\n",
      " [{\"proofState\": 0,\n",
      "   \"pos\": {\"line\": 4, \"column\": 35},\n",
      "   \"goal\": \"⊢ f > 0\",\n",
      "   \"endPos\": {\"line\": 4, \"column\": 40}}],\n",
      " \"messages\":\n",
      " [{\"severity\": \"warning\",\n",
      "   \"pos\": {\"line\": 4, \"column\": 8},\n",
      "   \"endPos\": {\"line\": 4, \"column\": 23},\n",
      "   \"data\": \"declaration uses 'sorry'\"}],\n",
      " \"env\": 10}\n"
     ]
    }
   ],
   "source": [
    "state = proofsearch.run_code(code, verbose=True)"
   ]
  },
  {
   "cell_type": "code",
   "execution_count": 55,
   "id": "b3554aef-b4fb-4e58-90c3-a8ec2eda365e",
   "metadata": {},
   "outputs": [
    {
     "data": {
      "text/plain": [
       "{'sorries': [{'proofState': 0,\n",
       "   'pos': {'line': 4, 'column': 35},\n",
       "   'goal': '⊢ f > 0',\n",
       "   'endPos': {'line': 4, 'column': 40}}],\n",
       " 'messages': [{'severity': 'warning',\n",
       "   'pos': {'line': 4, 'column': 8},\n",
       "   'endPos': {'line': 4, 'column': 23},\n",
       "   'data': \"declaration uses 'sorry'\"}],\n",
       " 'env': 10}"
      ]
     },
     "execution_count": 55,
     "metadata": {},
     "output_type": "execute_result"
    }
   ],
   "source": [
    "state"
   ]
  },
  {
   "cell_type": "code",
   "execution_count": 27,
   "id": "6097d4a3-1557-4b08-a06e-73e3dc5bee27",
   "metadata": {},
   "outputs": [
    {
     "data": {
      "text/plain": [
       "True"
      ]
     },
     "execution_count": 27,
     "metadata": {},
     "output_type": "execute_result"
    }
   ],
   "source": [
    "state['messages'][1]['data'].startswith('unsolved goals\\n')"
   ]
  },
  {
   "cell_type": "code",
   "execution_count": 30,
   "id": "d8417a13-57fa-4c42-9de7-9d549a77510b",
   "metadata": {},
   "outputs": [
    {
     "name": "stdout",
     "output_type": "stream",
     "text": [
      "unsolved goals\n",
      "⊢ 2 = 2\n"
     ]
    }
   ],
   "source": [
    "for msg in state['messages']:\n",
    "    data = msg['data']\n",
    "    if data.startswith('unsolved goals\\n'):\n",
    "        print(data)"
   ]
  },
  {
   "cell_type": "code",
   "execution_count": 33,
   "id": "ec0d6235-8d41-4476-87cc-5cf8432851a0",
   "metadata": {},
   "outputs": [],
   "source": [
    "\n",
    "\n",
    "def get_goal(state):\n",
    "    goal = None\n",
    "    for msg in state['messages']:\n",
    "        if msg['data'].startswith('unsolved goals\\n'):\n",
    "            goal = '\\n'.join(msg['data'].split('\\n')[1:])\n",
    "        # elif msg['severity'] == 'error':\n",
    "        #     return None\n",
    "    return goal"
   ]
  },
  {
   "cell_type": "code",
   "execution_count": 34,
   "id": "c10b4e01-81a6-4eb9-99fa-82dac811c2c8",
   "metadata": {},
   "outputs": [
    {
     "name": "stdout",
     "output_type": "stream",
     "text": [
      "⊢ 2 = 2\n"
     ]
    }
   ],
   "source": [
    "print(get_goal(state))"
   ]
  },
  {
   "cell_type": "code",
   "execution_count": null,
   "id": "761c272f-3977-42a5-bca1-a33a9f719ebf",
   "metadata": {},
   "outputs": [],
   "source": []
  }
 ],
 "metadata": {
  "kernelspec": {
   "display_name": "Python 3 (ipykernel)",
   "language": "python",
   "name": "python3"
  },
  "language_info": {
   "codemirror_mode": {
    "name": "ipython",
    "version": 3
   },
   "file_extension": ".py",
   "mimetype": "text/x-python",
   "name": "python",
   "nbconvert_exporter": "python",
   "pygments_lexer": "ipython3",
   "version": "3.10.13"
  }
 },
 "nbformat": 4,
 "nbformat_minor": 5
}
