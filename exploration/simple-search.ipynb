{
 "cells": [
  {
   "cell_type": "code",
   "execution_count": 1,
   "id": "eb8df691-a2dc-493b-aba0-82dc5d7c562b",
   "metadata": {},
   "outputs": [],
   "source": [
    "import pexpect\n",
    "import json\n",
    "import os\n",
    "\n",
    "class LeanServer:\n",
    "    def __init__(self):\n",
    "        # Get the path where you download repl\n",
    "        path_to_repl = os.environ.get('PATH_TO_LEAN_REPL')\n",
    "\n",
    "        # Run the command\n",
    "        self.proc = pexpect.spawn(\n",
    "            \"lake env lean --run REPL/Main.lean\", \n",
    "            cwd=path_to_repl, \n",
    "            encoding=\"utf-8\")\n",
    "\n",
    "    def run_code(self, code, env=None, verbose=False):\n",
    "        if env:\n",
    "            command = (\n",
    "                json.dumps(dict(cmd=code, env=env))\n",
    "            )  # [1:-1] removes single quotes\n",
    "        else:\n",
    "            command = (\n",
    "                '{ \"cmd\" : \"' + repr(code)[1:-1] + '\" }'\n",
    "            )  # [1:-1] removes single quotes\n",
    "\n",
    "        if verbose: print(command)\n",
    "        self.proc.sendline(command)\n",
    "        self.proc.expect_exact(command + \"\\r\\n\")\n",
    "        self.proc.sendline()\n",
    "        self.proc.expect_exact(\"\\r\\n\")\n",
    "        try:\n",
    "            index = self.proc.expect('env\": \\d+\\}', timeout=20)\n",
    "            output = self.proc.before + self.proc.match.group()\n",
    "            if verbose: print(output)\n",
    "            return json.loads(output)\n",
    "            \n",
    "        except pexpect.exceptions.TIMEOUT:\n",
    "            raise pexpect.exceptions.TIMEOUT"
   ]
  },
  {
   "cell_type": "code",
   "execution_count": 5,
   "id": "402d3cc3-8116-4251-82af-c201828ade8b",
   "metadata": {},
   "outputs": [],
   "source": [
    "def get_goal(state):\n",
    "    goal = None\n",
    "    for msg in state['messages']:\n",
    "        if msg['data'].startswith('unsolved goals\\n'):\n",
    "            goal = '\\n'.join(msg['data'].split('\\n')[1:])\n",
    "            \n",
    "        elif msg['severity'] == 'error':\n",
    "            return None\n",
    "            \n",
    "    return goal"
   ]
  },
  {
   "cell_type": "code",
   "execution_count": 2,
   "id": "88aff439-9a9c-4cd3-a69e-f0872fb76d1a",
   "metadata": {},
   "outputs": [
    {
     "name": "stdout",
     "output_type": "stream",
     "text": [
      "{'env': 0,\n",
      " 'messages': [{'data': 'unsolved goals\\n'\n",
      "                       'm n : ℕ\\n'\n",
      "                       'h : Nat.Coprime m n\\n'\n",
      "                       '⊢ Nat.gcd m n = 1',\n",
      "               'endPos': {'column': 69, 'line': 4},\n",
      "               'pos': {'column': 68, 'line': 4},\n",
      "               'severity': 'error'}]}\n"
     ]
    }
   ],
   "source": [
    "from pprint import pprint\n",
    "\n",
    "code = \"\"\"\n",
    "import Mathlib.Data.Nat.Prime\n",
    "\n",
    "theorem test_thm (m n : Nat) (h : m.Coprime n) : m.gcd n = 1 := by {}\n",
    "\"\"\"\n",
    "\n",
    "lean = LeanServer()\n",
    "state = lean.run_code(code)\n",
    "lean.proc.close()\n",
    "pprint(state)"
   ]
  },
  {
   "cell_type": "code",
   "execution_count": 7,
   "id": "7a463aca-a4f6-409e-aa78-c465d3f4c029",
   "metadata": {},
   "outputs": [
    {
     "name": "stdout",
     "output_type": "stream",
     "text": [
      "m n : ℕ\n",
      "h : Nat.Coprime m n\n",
      "⊢ Nat.gcd m n = 1\n"
     ]
    }
   ],
   "source": [
    "print(get_goal(state))"
   ]
  },
  {
   "cell_type": "code",
   "execution_count": 9,
   "id": "d4565a45-c4c7-4f2b-8a34-510e3d58f78a",
   "metadata": {},
   "outputs": [
    {
     "name": "stdout",
     "output_type": "stream",
     "text": [
      "{'env': 0}\n"
     ]
    }
   ],
   "source": [
    "code = \"\"\"\n",
    "import Mathlib.Data.Nat.Prime\n",
    "\n",
    "theorem test_thm (m n : Nat) (h : m.Coprime n) : m.gcd n = 1 := by \n",
    "\n",
    "rw [← h.gcd_eq_one]\n",
    "\"\"\"\n",
    "\n",
    "lean = LeanServer()\n",
    "state = lean.run_code(code)\n",
    "lean.proc.close()\n",
    "\n",
    "pprint(state)"
   ]
  },
  {
   "cell_type": "code",
   "execution_count": 10,
   "id": "f6d9898c-0ebd-41c5-b738-c3aed238277e",
   "metadata": {},
   "outputs": [
    {
     "data": {
      "text/plain": [
       "False"
      ]
     },
     "execution_count": 10,
     "metadata": {},
     "output_type": "execute_result"
    }
   ],
   "source": [
    "state.get('sorries') == [] and state.get('messages') == []"
   ]
  },
  {
   "cell_type": "code",
   "execution_count": 11,
   "id": "72bfb67a-c487-408a-93f3-b4429a4e3ee2",
   "metadata": {},
   "outputs": [
    {
     "data": {
      "text/plain": [
       "True"
      ]
     },
     "execution_count": 11,
     "metadata": {},
     "output_type": "execute_result"
    }
   ],
   "source": [
    "not state.get('sorries') and not state.get('messages')"
   ]
  },
  {
   "cell_type": "code",
   "execution_count": null,
   "id": "2e628d14-c34d-4cc6-9d33-69795be69fec",
   "metadata": {},
   "outputs": [],
   "source": []
  }
 ],
 "metadata": {
  "kernelspec": {
   "display_name": "Python 3 (ipykernel)",
   "language": "python",
   "name": "python3"
  },
  "language_info": {
   "codemirror_mode": {
    "name": "ipython",
    "version": 3
   },
   "file_extension": ".py",
   "mimetype": "text/x-python",
   "name": "python",
   "nbconvert_exporter": "python",
   "pygments_lexer": "ipython3",
   "version": "3.10.13"
  }
 },
 "nbformat": 4,
 "nbformat_minor": 5
}
